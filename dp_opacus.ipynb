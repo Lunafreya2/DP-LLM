{
 "cells": [
  {
   "cell_type": "code",
   "execution_count": 1,
   "metadata": {},
   "outputs": [],
   "source": [
    "import transformers\n",
    "import torch\n",
    "import torch.nn.functional as F\n",
    "import opacus\n",
    "from opacus import PrivacyEngine\n",
    "from datasets import load_dataset\n",
    "from torch.utils.data import DataLoader"
   ]
  },
  {
   "cell_type": "code",
   "execution_count": 2,
   "metadata": {},
   "outputs": [],
   "source": [
    "\n",
    "# Set up device\n",
    "device = torch.device('cuda' if torch.cuda.is_available() else 'cpu')\n",
    "\n",
    "# Load the GPT-2 model\n",
    "model = transformers.GPT2LMHeadModel.from_pretrained('distilgpt2').to(device)\n",
    "tokenizer = transformers.GPT2Tokenizer.from_pretrained('distilgpt2')\n",
    "# Set up the optimizer\n",
    "optimizer = torch.optim.Adam(params=model.parameters(), lr=1e-4)"
   ]
  },
  {
   "cell_type": "code",
   "execution_count": 3,
   "metadata": {},
   "outputs": [
    {
     "name": "stderr",
     "output_type": "stream",
     "text": [
      "c:\\Users\\Saad\\anaconda3\\envs\\tenv\\Lib\\site-packages\\datasets\\load.py:1429: FutureWarning: The repository for dair-ai/emotion contains custom code which must be executed to correctly load the dataset. You can inspect the repository content at https://hf.co/datasets/dair-ai/emotion\n",
      "You can avoid this message in future by passing the argument `trust_remote_code=True`.\n",
      "Passing `trust_remote_code=True` will be mandatory to load this dataset from the next major release of `datasets`.\n",
      "  warnings.warn(\n"
     ]
    }
   ],
   "source": [
    "\n",
    "dataset = load_dataset(\"dair-ai/emotion\", split=\"test\")\n",
    "tokenizer.pad_token = tokenizer.eos_token\n",
    "def tokenize_function(examples):\n",
    "    return tokenizer(examples['text'], return_tensors=\"pt\", max_length=512, truncation=True, padding=\"max_length\")\n",
    "\n",
    "tokenized_datasets = dataset.map(tokenize_function, batched=True)"
   ]
  },
  {
   "cell_type": "code",
   "execution_count": 4,
   "metadata": {},
   "outputs": [],
   "source": [
    "# Convert the dataset to PyTorch format\n",
    "tokenized_datasets.set_format(type='torch', columns=['input_ids', 'attention_mask'])"
   ]
  },
  {
   "cell_type": "code",
   "execution_count": 6,
   "metadata": {},
   "outputs": [],
   "source": [
    "\n",
    "\n",
    "train_loader = DataLoader(tokenized_datasets, batch_size=4, shuffle=True)"
   ]
  },
  {
   "cell_type": "code",
   "execution_count": 7,
   "metadata": {},
   "outputs": [],
   "source": [
    "# Initialize the Privacy Engine\n",
    "privacy_engine = PrivacyEngine(\n",
    "    model,\n",
    "    batch_size=4,\n",
    "    sample_size=len(tokenized_datasets),\n",
    "    epochs=3,\n",
    "    max_grad_norm=0.1,\n",
    "    target_epsilon=3,\n",
    ")\n",
    "privacy_engine.attach(optimizer)"
   ]
  },
  {
   "cell_type": "code",
   "execution_count": 8,
   "metadata": {},
   "outputs": [
    {
     "name": "stderr",
     "output_type": "stream",
     "text": [
      "c:\\Users\\Saad\\anaconda3\\envs\\tenv\\Lib\\site-packages\\torch\\nn\\modules\\module.py:1359: UserWarning: Using a non-full backward hook when the forward contains multiple autograd Nodes is deprecated and will be removed in future versions. This hook will be missing some grad_input. Please use register_full_backward_hook to get the documented behavior.\n",
      "  warnings.warn(\"Using a non-full backward hook when the forward contains multiple autograd Nodes \"\n"
     ]
    },
    {
     "ename": "AttributeError",
     "evalue": "'PrivacyEngine' object has no attribute 'accountant'",
     "output_type": "error",
     "traceback": [
      "\u001b[1;31m---------------------------------------------------------------------------\u001b[0m",
      "\u001b[1;31mAttributeError\u001b[0m                            Traceback (most recent call last)",
      "Cell \u001b[1;32mIn[8], line 29\u001b[0m\n\u001b[0;32m     26\u001b[0m     optimizer\u001b[39m.\u001b[39mstep(loss\u001b[39m=\u001b[39mloss)\n\u001b[0;32m     28\u001b[0m \u001b[39m# Print privacy budget spent so far\u001b[39;00m\n\u001b[1;32m---> 29\u001b[0m epsilon, best_alpha \u001b[39m=\u001b[39m privacy_engine\u001b[39m.\u001b[39;49maccountant\u001b[39m.\u001b[39mget_privacy_spent()\n\u001b[0;32m     30\u001b[0m \u001b[39mprint\u001b[39m(\u001b[39mf\u001b[39m\u001b[39m\"\u001b[39m\u001b[39mEpoch: \u001b[39m\u001b[39m{\u001b[39;00mepoch\u001b[39m}\u001b[39;00m\u001b[39m, Epsilon spent: \u001b[39m\u001b[39m{\u001b[39;00mepsilon\u001b[39m}\u001b[39;00m\u001b[39m, Best alpha: \u001b[39m\u001b[39m{\u001b[39;00mbest_alpha\u001b[39m}\u001b[39;00m\u001b[39m\"\u001b[39m)\n",
      "\u001b[1;31mAttributeError\u001b[0m: 'PrivacyEngine' object has no attribute 'accountant'"
     ]
    }
   ],
   "source": [
    "# Training loop\n",
    "num_epochs = 3  # Set the number of epochs\n",
    "\n",
    "for epoch in range(num_epochs):\n",
    "    for batch in train_loader:\n",
    "        # Ensure model is in train mode\n",
    "\n",
    "        input_ids = batch['input_ids'].to(device)\n",
    "        attention_mask = batch['attention_mask'].to(device)\n",
    "\n",
    "        model.train()\n",
    "\n",
    "        # Forward pass\n",
    "        outputs = model(input_ids=input_ids, attention_mask=attention_mask, labels=input_ids)\n",
    "        \n",
    "        # GPT-2 outputs loss as a scalar by default, averaging over the entire batch.\n",
    "        # We reshape it to (-1, model's output size) to compute per-token loss\n",
    "        logits = outputs.logits.view(-1, outputs.logits.size(-1))\n",
    "        labels = input_ids.view(-1)\n",
    "        loss = F.cross_entropy(logits, labels, reduction='none')\n",
    "\n",
    "        # Reshape loss to obtain per-example loss (assuming equal length sequences)\n",
    "        # loss = loss.view(batch['input_ids'].size(0), -1).mean(dim=1)\n",
    "        # Backward and optimize\n",
    "        optimizer.zero_grad()  # Clear existing gradients\n",
    "        optimizer.step(loss=loss)\n",
    "\n",
    "    # Print privacy budget spent so far\n",
    "    epsilon, best_alpha = optimizer.\n",
    "    print(f\"Epoch: {epoch}, Epsilon spent: {epsilon}, Best alpha: {best_alpha}\")\n",
    "\n"
   ]
  },
  {
   "cell_type": "code",
   "execution_count": null,
   "metadata": {},
   "outputs": [],
   "source": [
    "# Save the model\n",
    "model.save_pretrained(\"my_private_gpt2_model\")"
   ]
  }
 ],
 "metadata": {
  "kernelspec": {
   "display_name": "tenv",
   "language": "python",
   "name": "python3"
  },
  "language_info": {
   "codemirror_mode": {
    "name": "ipython",
    "version": 3
   },
   "file_extension": ".py",
   "mimetype": "text/x-python",
   "name": "python",
   "nbconvert_exporter": "python",
   "pygments_lexer": "ipython3",
   "version": "3.11.5"
  }
 },
 "nbformat": 4,
 "nbformat_minor": 2
}
